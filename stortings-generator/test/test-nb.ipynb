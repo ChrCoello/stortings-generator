{
 "cells": [
  {
   "cell_type": "markdown",
   "source": [
    "# Test notebook for checking business logic of the Dashboard\r\n",
    "\r\n",
    "- Consumption data is made up. Added some noise and lower consumption during the weekend.\r\n",
    "\r\n"
   ],
   "metadata": {}
  },
  {
   "cell_type": "code",
   "execution_count": 1,
   "source": [
    "#Base\r\n",
    "import os, sys\r\n",
    "module_path = os.path.abspath(os.path.join('..'))\r\n",
    "if module_path not in sys.path:\r\n",
    "    sys.path.append(module_path)\r\n",
    "import random\r\n",
    "\r\n",
    "# Third party\r\n",
    "#import pandas as pd\r\n",
    "#import numpy as np\r\n",
    "#import matplotlib.pyplot as plt\r\n",
    "\r\n",
    "# Local\r\n",
    "#import batterypack as batterypack\r\n",
    "from utils import parse_trafo_json\r\n",
    "from enums import Metadata\r\n",
    "\r\n"
   ],
   "outputs": [],
   "metadata": {}
  },
  {
   "cell_type": "code",
   "execution_count": 2,
   "source": [
    "sites_dct = parse_trafo_json('../metadata/' + Metadata.SITES_FN)"
   ],
   "outputs": [],
   "metadata": {}
  },
  {
   "cell_type": "code",
   "execution_count": 3,
   "source": [
    "parties = sites_dct['parties']\r\n",
    "random.shuffle(parties)\r\n",
    "total_seats = sites_dct['total_seats']\r\n"
   ],
   "outputs": [],
   "metadata": {}
  },
  {
   "cell_type": "code",
   "execution_count": 7,
   "source": [
    "def rnd_to_sum_with_min(desired_sum=169,numbers=3,minimum=5):\r\n",
    "    selection=[]\r\n",
    "    for index in range(numbers-1):\r\n",
    "        upper_limit = desired_sum - sum(selection) - (numbers - index) * minimum\r\n",
    "        choice = random.randint(minimum, upper_limit)\r\n",
    "        selection.append(choice)\r\n",
    "    selection.append(desired_sum-sum(selection))\r\n",
    "    return selection"
   ],
   "outputs": [],
   "metadata": {}
  },
  {
   "cell_type": "code",
   "execution_count": 6,
   "source": [
    "seats_assigned = rnd_to_sum_with_min(desired_sum=total_seats, numbers=len(parties), minimum=5)"
   ],
   "outputs": [],
   "metadata": {}
  },
  {
   "cell_type": "code",
   "execution_count": 8,
   "source": [
    "seats_assigned"
   ],
   "outputs": [
    {
     "output_type": "execute_result",
     "data": {
      "text/plain": [
       "[26, 36, 12, 58, 10, 7, 5, 5, 10]"
      ]
     },
     "metadata": {},
     "execution_count": 8
    }
   ],
   "metadata": {}
  },
  {
   "cell_type": "code",
   "execution_count": 9,
   "source": [
    "[print(antall,party['shortname']) for antall,party in zip(seats_assigned,parties)]"
   ],
   "outputs": [
    {
     "output_type": "stream",
     "name": "stdout",
     "text": [
      "26 KRF\n",
      "36 V\n",
      "12 MDG\n",
      "58 SP\n",
      "10 R\n",
      "7 H\n",
      "5 SV\n",
      "5 AP\n",
      "10 FRP\n"
     ]
    },
    {
     "output_type": "execute_result",
     "data": {
      "text/plain": [
       "[None, None, None, None, None, None, None, None, None]"
      ]
     },
     "metadata": {},
     "execution_count": 9
    }
   ],
   "metadata": {}
  },
  {
   "cell_type": "code",
   "execution_count": 10,
   "source": [
    "import pandas as pd"
   ],
   "outputs": [],
   "metadata": {}
  },
  {
   "cell_type": "code",
   "execution_count": 12,
   "source": [
    "pd.DataFrame(data=[(antall,party['shortname']) for antall,party in zip(seats_assigned,parties)],columns=['seats','party_name'])"
   ],
   "outputs": [
    {
     "output_type": "execute_result",
     "data": {
      "text/html": [
       "<div>\n",
       "<style scoped>\n",
       "    .dataframe tbody tr th:only-of-type {\n",
       "        vertical-align: middle;\n",
       "    }\n",
       "\n",
       "    .dataframe tbody tr th {\n",
       "        vertical-align: top;\n",
       "    }\n",
       "\n",
       "    .dataframe thead th {\n",
       "        text-align: right;\n",
       "    }\n",
       "</style>\n",
       "<table border=\"1\" class=\"dataframe\">\n",
       "  <thead>\n",
       "    <tr style=\"text-align: right;\">\n",
       "      <th></th>\n",
       "      <th>seats</th>\n",
       "      <th>party_name</th>\n",
       "    </tr>\n",
       "  </thead>\n",
       "  <tbody>\n",
       "    <tr>\n",
       "      <th>0</th>\n",
       "      <td>26</td>\n",
       "      <td>KRF</td>\n",
       "    </tr>\n",
       "    <tr>\n",
       "      <th>1</th>\n",
       "      <td>36</td>\n",
       "      <td>V</td>\n",
       "    </tr>\n",
       "    <tr>\n",
       "      <th>2</th>\n",
       "      <td>12</td>\n",
       "      <td>MDG</td>\n",
       "    </tr>\n",
       "    <tr>\n",
       "      <th>3</th>\n",
       "      <td>58</td>\n",
       "      <td>SP</td>\n",
       "    </tr>\n",
       "    <tr>\n",
       "      <th>4</th>\n",
       "      <td>10</td>\n",
       "      <td>R</td>\n",
       "    </tr>\n",
       "    <tr>\n",
       "      <th>5</th>\n",
       "      <td>7</td>\n",
       "      <td>H</td>\n",
       "    </tr>\n",
       "    <tr>\n",
       "      <th>6</th>\n",
       "      <td>5</td>\n",
       "      <td>SV</td>\n",
       "    </tr>\n",
       "    <tr>\n",
       "      <th>7</th>\n",
       "      <td>5</td>\n",
       "      <td>AP</td>\n",
       "    </tr>\n",
       "    <tr>\n",
       "      <th>8</th>\n",
       "      <td>10</td>\n",
       "      <td>FRP</td>\n",
       "    </tr>\n",
       "  </tbody>\n",
       "</table>\n",
       "</div>"
      ],
      "text/plain": [
       "   seats party_name\n",
       "0     26        KRF\n",
       "1     36          V\n",
       "2     12        MDG\n",
       "3     58         SP\n",
       "4     10          R\n",
       "5      7          H\n",
       "6      5         SV\n",
       "7      5         AP\n",
       "8     10        FRP"
      ]
     },
     "metadata": {},
     "execution_count": 12
    }
   ],
   "metadata": {}
  },
  {
   "cell_type": "code",
   "execution_count": null,
   "source": [],
   "outputs": [],
   "metadata": {}
  }
 ],
 "metadata": {
  "kernelspec": {
   "name": "python3",
   "display_name": "Python 3.9.7 64-bit"
  },
  "language_info": {
   "codemirror_mode": {
    "name": "ipython",
    "version": 3
   },
   "file_extension": ".py",
   "mimetype": "text/x-python",
   "name": "python",
   "nbconvert_exporter": "python",
   "pygments_lexer": "ipython3",
   "version": "3.9.7"
  },
  "interpreter": {
   "hash": "3979f81161c406f33a79ced9d4f0537024d36c75b22196000aa9ca9defe2aa58"
  }
 },
 "nbformat": 4,
 "nbformat_minor": 5
}